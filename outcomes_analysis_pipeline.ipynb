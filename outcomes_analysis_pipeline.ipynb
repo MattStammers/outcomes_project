{
 "cells": [
  {
   "cell_type": "code",
   "execution_count": 2,
   "metadata": {},
   "outputs": [],
   "source": [
    "# Import packages\n",
    "import pandas as pd\n",
    "import numpy as np\n",
    "import os\n",
    "\n",
    "root = os.getcwd()"
   ]
  },
  {
   "cell_type": "code",
   "execution_count": null,
   "metadata": {},
   "outputs": [],
   "source": [
    "# Importing datasets from HDRUK Winter Pressures project\n",
    "# TODO: You will need to replace the filename with your actual apc winter pressures filename\n",
    "acute = pd.read_csv(f\"{root}/data/apc_winter_pressures_file.csv\")"
   ]
  },
  {
   "cell_type": "code",
   "execution_count": 3,
   "metadata": {},
   "outputs": [],
   "source": [
    "# Importing ICD-10 code mappings used by our trust - enter your excel/csv for mapping in the quotations\n",
    "icd = pd.read_excel(f\"{root}/icd_10_mapper.xlsx\")"
   ]
  },
  {
   "cell_type": "code",
   "execution_count": 4,
   "metadata": {},
   "outputs": [],
   "source": [
    "# Changing the names of the columns we would like from code list and creating a diagnosis column\n",
    "icd2 = icd[icd['CODING_METHOD']==10]\n",
    "icd_codes = icd2[['DIAGNOSIS_CODE', 'DESCRIPTION']]\n",
    "icd_codes.columns = ['diag_01', 'diagnosis']"
   ]
  },
  {
   "cell_type": "code",
   "execution_count": null,
   "metadata": {},
   "outputs": [],
   "source": [
    "# Creating new dataframe merged to include a diagnosis field based on ICD-10 codes. \n",
    "acute_new = pd.merge(acute, icd_codes, on='diag_01', how='left')"
   ]
  },
  {
   "cell_type": "code",
   "execution_count": null,
   "metadata": {},
   "outputs": [],
   "source": [
    "# truncating dataframe to essential variables\n",
    "acute2 = acute_new[['diagnosis',\n",
    "                    'length_of_stay',\n",
    "                    'admiage',\n",
    "                    'townsend_score_quintile',\n",
    "                    'gender_cat',\n",
    "                    'ethnos_cat',\n",
    "                    'in_hours',\n",
    "                    'disdest_cat',\n",
    "                    'opertn_count',\n",
    "                    'comorb_count']].copy()"
   ]
  },
  {
   "cell_type": "code",
   "execution_count": null,
   "metadata": {},
   "outputs": [],
   "source": [
    "# Creating dataframe of the highest ranking diagnoses in order\n",
    "diag = pd.DataFrame(acute2['diagnosis'].value_counts()).reset_index()"
   ]
  },
  {
   "cell_type": "code",
   "execution_count": null,
   "metadata": {},
   "outputs": [],
   "source": [
    "# Creating a list of the top 50 ranked diagnoses by frequency\n",
    "top_fifty = diag.iloc[0:50, 0].to_list()"
   ]
  },
  {
   "cell_type": "code",
   "execution_count": null,
   "metadata": {},
   "outputs": [],
   "source": [
    "# Creating new dataframe of just those with the 50 most common diagnoses \n",
    "# works out at around half of the original cohort in UHS dataset\n",
    "acute_top = acute2[acute2['diagnosis'].isin(top_fifty)]"
   ]
  },
  {
   "cell_type": "code",
   "execution_count": null,
   "metadata": {},
   "outputs": [],
   "source": [
    "# Setting range for low number suppression which will be part of pipeline and used below\n",
    "lownum = range(1, 8)"
   ]
  },
  {
   "cell_type": "code",
   "execution_count": null,
   "metadata": {},
   "outputs": [],
   "source": [
    "# Creating tables for overall descriptive stats using top 50 diagnoses\n",
    "\n",
    "overall_catvar = acute_top[['diagnosis', 'gender_cat', 'ethnos_cat', 'in_hours', 'disdest_cat']] # slicing dataframe into just categorical variables\n",
    "overall_contvar = acute_top[['admiage', 'townsend_score_quintile', 'length_of_stay', 'opertn_count', 'comorb_count']] # slicing dataframe into just continuous variables\n",
    "\n",
    "overall_catvar_for_concat = {} # empty dictionary to populate with dataframes ready for concatination into tables at the end\n",
    "\n",
    "for col in overall_catvar: # for loop to populate dictionary with dataframes of counts for each column\n",
    "            overall_catvar_for_concat[col] = pd.DataFrame(overall_catvar[col].value_counts(dropna=False))\n",
    "            overall_catvar_for_concat[col].columns = ['count']\n",
    "            overall_catvar_for_concat[col] = overall_catvar_for_concat[col].replace(lownum, -1)\n",
    "\n",
    "overall_cat_table = pd.concat(overall_catvar_for_concat) # once dictionary populated, these dataframes are concatinated\n",
    "overall_cat_table['percentage'] = (overall_cat_table['count'] / len(acute_top) * 100).round(1) # percentage column added\n",
    "\n",
    "overall_cont_table = pd.DataFrame(overall_contvar.describe().T) # continuous variables described\n",
    "overall_cont_table.columns = ['count', 'mean', 'std', 'min', '25%', 'median', '75%', 'max']\n",
    "overall_cont_table['IQR'] = overall_cont_table['75%'] - overall_cont_table['25%'] # creating interquartile range column\n",
    "overall_cont_table['n_missing'] = len(acute_top) - overall_cont_table['count'] # creating missing number column with percentage\n",
    "overall_cont_table['percent_missing'] = overall_cont_table['n_missing'] / len(acute_top) * 100\n",
    "overall_cont_table = overall_cont_table.round(1)\n",
    "overall_cont_table['count'] = overall_cont_table['count'].replace(lownum, -1)"
   ]
  },
  {
   "cell_type": "code",
   "execution_count": null,
   "metadata": {},
   "outputs": [],
   "source": [
    "# Creating for loop that populates dictionaries with a table for each value in the top 50 diagnoses list. \n",
    "# Once these are made, they're concatinated into big dataframes with every diagnosis' descriptive statistics\n",
    "# PLEASE ADJUST TOWNSEND SCORE QUINTILE INTO CATEGORICAL VARIABLES IF DESIRED\n",
    "\n",
    "cat_for_concat = {} # empty dictionaries to populate\n",
    "cont_for_concat = {}\n",
    "\n",
    "for val in top_fifty:\n",
    "    df = acute_top[acute_top['diagnosis']== val] # slicing new dataframe of only the listed diagnosis\n",
    "    df = df.drop(columns='diagnosis') # dropping the diagnosis column otherwise pointless variable\n",
    "\n",
    "    cat_df = df[['gender_cat', 'ethnos_cat', 'in_hours', 'disdest_cat']] # choosing which variables are designated as categorical or continuous\n",
    "    cont_df = df[['admiage', 'townsend_score_quintile', 'length_of_stay', 'opertn_count', 'comorb_count']]\n",
    "\n",
    "    catvar_for_concat = {} # creating empty data dictionary to populate with small dataframes\n",
    "\n",
    "    for col in cat_df: # for loop to populate dictionary\n",
    "            catvar_for_concat[col] = pd.DataFrame(cat_df[col].value_counts(dropna=False).sort_index(ascending=True))\n",
    "            catvar_for_concat[col].columns = ['count']\n",
    "            catvar_for_concat[col] = catvar_for_concat[col].replace(lownum, -1)\n",
    "    cat_table = pd.concat(catvar_for_concat) # once dictionary populated, these dataframes are concatinated\n",
    "    cat_table['percentage'] = (cat_table['count'] / len(df) * 100).round(1) # percentage column added\n",
    "\n",
    "    cont_table = pd.DataFrame(cont_df.describe().T) # continuous variables described\n",
    "    cont_table.columns = ['count', 'mean', 'std', 'min', '25%', 'median', '75%', 'max']\n",
    "    cont_table['IQR'] = cont_table['75%'] - cont_table['25%'] # creating interquartile range column\n",
    "    cont_table['n_missing'] = len(df) - cont_table['count'] # creating missing number column with percentage\n",
    "    cont_table['percent_missing'] = cont_table['n_missing'] / len(df) * 100\n",
    "    cont_table = cont_table.round(1)\n",
    "    cat_for_concat[f'{val}'] = cat_table # populating dictionary of dataframes with a table for each diagnosis in the top fifty list\n",
    "    cont_for_concat[f'{val}'] = cont_table\n",
    "    \n",
    "categorical_table = pd.concat(cat_for_concat) # concatinating all the tables into one big one for each\n",
    "continuous_table = pd.concat(cont_for_concat)\n",
    "continuous_table['count'] = continuous_table['count'].replace(lownum, -1)"
   ]
  },
  {
   "cell_type": "code",
   "execution_count": null,
   "metadata": {},
   "outputs": [],
   "source": [
    "# Output the results\n",
    "\n",
    "with pd.ExcelWriter(f'{root}\\hdruk_outcome_output.xlsx') as writer:\n",
    "    continuous_table.to_excel(writer, sheet_name='Continuous per diagnosis')\n",
    "    overall_cat_table.to_excel(writer, sheet_name='Overall categorical')\n",
    "    categorical_table.to_excel(writer, sheet_name='Categorical per diagnosis')\n",
    "    overall_cont_table.to_excel(writer, sheet_name='Overall continuous')"
   ]
  }
 ],
 "metadata": {
  "kernelspec": {
   "display_name": "hdruk_outcomes_project-Fzf1LL9l",
   "language": "python",
   "name": "python3"
  },
  "language_info": {
   "codemirror_mode": {
    "name": "ipython",
    "version": 3
   },
   "file_extension": ".py",
   "mimetype": "text/x-python",
   "name": "python",
   "nbconvert_exporter": "python",
   "pygments_lexer": "ipython3",
   "version": "3.10.0"
  },
  "orig_nbformat": 4
 },
 "nbformat": 4,
 "nbformat_minor": 2
}
